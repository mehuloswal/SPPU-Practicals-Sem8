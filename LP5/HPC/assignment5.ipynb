{
  "nbformat": 4,
  "nbformat_minor": 0,
  "metadata": {
    "colab": {
      "provenance": [],
      "gpuType": "T4"
    },
    "kernelspec": {
      "name": "python3",
      "display_name": "Python 3"
    },
    "language_info": {
      "name": "python"
    },
    "accelerator": "GPU",
    "gpuClass": "standard"
  },
  "cells": [
    {
      "cell_type": "code",
      "execution_count": 15,
      "metadata": {
        "colab": {
          "base_uri": "https://localhost:8080/"
        },
        "id": "PLwiefGb-C4d",
        "outputId": "e35b765f-f595-45bd-abc8-f8faf7a942a1"
      },
      "outputs": [
        {
          "output_type": "stream",
          "name": "stdout",
          "text": [
            "Looking in indexes: https://pypi.org/simple, https://us-python.pkg.dev/colab-wheels/public/simple/\n",
            "Collecting git+https://github.com/andreinechaev/nvcc4jupyter.git\n",
            "  Cloning https://github.com/andreinechaev/nvcc4jupyter.git to /tmp/pip-req-build-yph6ykrv\n",
            "  Running command git clone --filter=blob:none --quiet https://github.com/andreinechaev/nvcc4jupyter.git /tmp/pip-req-build-yph6ykrv\n",
            "  Resolved https://github.com/andreinechaev/nvcc4jupyter.git to commit aac710a35f52bb78ab34d2e52517237941399eff\n",
            "  Preparing metadata (setup.py) ... \u001b[?25l\u001b[?25hdone\n",
            "The nvcc_plugin extension is already loaded. To reload it, use:\n",
            "  %reload_ext nvcc_plugin\n"
          ]
        }
      ],
      "source": [
        "# Set up CUDA\n",
        "#First Change runtime to GPU and run this cell\n",
        "!pip install git+https://github.com/andreinechaev/nvcc4jupyter.git\n",
        "%load_ext nvcc_plugin\n"
      ]
    },
    {
      "cell_type": "code",
      "source": [
        "%%cu\n",
        "#include <stdio.h>\n",
        "#include <stdlib.h>\n",
        "#include <math.h>\n",
        " \n",
        "// CUDA kernel. Each thread takes care of one element of c\n",
        "__global__ void vecAdd(double *a, double *b, double *c, int n)\n",
        "{\n",
        "    // Get our global thread ID\n",
        "    int id = blockIdx.x*blockDim.x+threadIdx.x;\n",
        " \n",
        "    // Make sure we do not go out of bounds\n",
        "    if (id < n)\n",
        "        c[id] = a[id] + b[id];\n",
        "}\n",
        " \n",
        "int main( int argc, char* argv[] )\n",
        "{\n",
        "    // Size of vectors\n",
        "    int n = 100000;\n",
        " \n",
        "    // Host input vectors\n",
        "    double *h_a;\n",
        "    double *h_b;\n",
        "    //Host output vector\n",
        "    double *h_c;\n",
        " \n",
        "    // Device input vectors\n",
        "    double *d_a;\n",
        "    double *d_b;\n",
        "    //Device output vector\n",
        "    double *d_c;\n",
        " \n",
        "    // Size, in bytes, of each vector\n",
        "    size_t bytes = n*sizeof(double);\n",
        " \n",
        "    // Allocate memory for each vector on host\n",
        "    h_a = (double*)malloc(bytes);\n",
        "    h_b = (double*)malloc(bytes);\n",
        "    h_c = (double*)malloc(bytes);\n",
        " \n",
        "    // Allocate memory for each vector on GPU\n",
        "    cudaMalloc(&d_a, bytes);\n",
        "    cudaMalloc(&d_b, bytes);\n",
        "    cudaMalloc(&d_c, bytes);\n",
        " \n",
        "    int i;\n",
        "    // Initialize vectors on host\n",
        "    for( i = 0; i < n; i++ ) {\n",
        "        h_a[i] = sin(i)*sin(i);\n",
        "        h_b[i] = cos(i)*cos(i);\n",
        "    }\n",
        " \n",
        "    // Copy host vectors to device\n",
        "    cudaMemcpy( d_a, h_a, bytes, cudaMemcpyHostToDevice);\n",
        "    cudaMemcpy( d_b, h_b, bytes, cudaMemcpyHostToDevice);\n",
        " \n",
        "    int blockSize, gridSize;\n",
        " \n",
        "    // Number of threads in each thread block\n",
        "    blockSize = 1024;\n",
        " \n",
        "    // Number of thread blocks in grid\n",
        "    gridSize = (int)ceil((float)n/blockSize);\n",
        " \n",
        "    // Execute the kernel\n",
        "    vecAdd<<<gridSize, blockSize>>>(d_a, d_b, d_c, n);\n",
        " \n",
        "    // Copy array back to host\n",
        "    cudaMemcpy( h_c, d_c, bytes, cudaMemcpyDeviceToHost );\n",
        " \n",
        "    // Sum up vector c and print result divided by n, this should equal 1 within error\n",
        "    double sum = 0;\n",
        "    for(i=0; i<n; i++)\n",
        "        sum += h_c[i];\n",
        "    printf(\"final result: %f\\n\", sum/n);\n",
        " \n",
        "    // Release device memory\n",
        "    cudaFree(d_a);\n",
        "    cudaFree(d_b);\n",
        "    cudaFree(d_c);\n",
        " \n",
        "    // Release host memory\n",
        "    free(h_a);\n",
        "    free(h_b);\n",
        "    free(h_c);\n",
        " \n",
        "    return 0;\n",
        "}"
      ],
      "metadata": {
        "colab": {
          "base_uri": "https://localhost:8080/"
        },
        "id": "Ebqsk_UBG-be",
        "outputId": "5b106fc5-cda4-4c9d-ac84-8db18015bc2c"
      },
      "execution_count": 16,
      "outputs": [
        {
          "output_type": "stream",
          "name": "stdout",
          "text": [
            "final result: 1.000000\n",
            "\n"
          ]
        }
      ]
    },
    {
      "cell_type": "code",
      "source": [],
      "metadata": {
        "id": "6eOwFLYHJAJe"
      },
      "execution_count": null,
      "outputs": []
    }
  ]
}
