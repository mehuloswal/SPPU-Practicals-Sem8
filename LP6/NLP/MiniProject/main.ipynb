{
 "cells": [
  {
   "cell_type": "code",
   "execution_count": 28,
   "metadata": {},
   "outputs": [
    {
     "name": "stderr",
     "output_type": "stream",
     "text": [
      "[nltk_data] Downloading package punkt to /Users/mehul/nltk_data...\n",
      "[nltk_data]   Package punkt is already up-to-date!\n",
      "[nltk_data] Downloading package indian to /Users/mehul/nltk_data...\n",
      "[nltk_data]   Package indian is already up-to-date!\n"
     ]
    },
    {
     "data": {
      "text/plain": [
       "True"
      ]
     },
     "execution_count": 28,
     "metadata": {},
     "output_type": "execute_result"
    }
   ],
   "source": [
    "import nltk\n",
    "from nltk.corpus import indian\n",
    "from nltk.tag import tnt\n",
    "import string\n",
    "nltk. download(\"punkt\")\n",
    "nltk.download(\"indian\")\n"
   ]
  },
  {
   "cell_type": "code",
   "execution_count": 29,
   "metadata": {},
   "outputs": [],
   "source": [
    "def train():\n",
    "    taggedSet=\"hindi.pos\"\n",
    "    wordSet = indian.sents(taggedSet)\n",
    "    print(\"wordSet: \",wordSet)\n",
    "    print(\"taggedSet: \",taggedSet)\n",
    "    count = 0\n",
    "#   print(wordset[0])\n",
    "    for sen in wordSet:\n",
    "         count = count + 1\n",
    "         sen = \"\".join(\n",
    "             [\n",
    "                 \" \" + i if not i.startswith(\"'\") and i not in string.punctuation else i\n",
    "                 for i in sen\n",
    "             ]\n",
    "         ).strip()\n",
    "    # print(count, sen, \"sentences\")\n",
    "    # print(\"Total sentences in the tagged file are\", count)\n",
    "    trainPerc = 0.9\n",
    "\n",
    "    trainRows = int (trainPerc*count)\n",
    "    testRows = trainRows + 1\n",
    "\n",
    "    data = indian. tagged_sents(taggedSet)\n",
    "    train_data = data[:trainRows]\n",
    "    test_data = data[testRows:]\n",
    "\n",
    "    print(\"Training dataset length: \", len(train_data))\n",
    "    print(\"Testing dataset length: \", len(test_data))\n",
    "\n",
    "    pos_tagger = tnt.TnT()\n",
    "    pos_tagger.train(train_data)\n",
    "    print(\"Accuracy: \", pos_tagger.evaluate(test_data))\n",
    "    return pos_tagger\n",
    "\n"
   ]
  },
  {
   "cell_type": "code",
   "execution_count": 30,
   "metadata": {},
   "outputs": [],
   "source": [
    "def tagger(pos_tagger, sentenceToBeTagged):\n",
    "    tokenized = nltk.word_tokenize(sentenceToBeTagged)\n",
    "    return pos_tagger.tag(tokenized)\n"
   ]
  },
  {
   "cell_type": "code",
   "execution_count": 31,
   "metadata": {},
   "outputs": [
    {
     "name": "stderr",
     "output_type": "stream",
     "text": [
      "/var/folders/11/pzs50dmx7w3_b1r1l7rqtgjr0000gn/T/ipykernel_18438/1426692524.py:32: DeprecationWarning: \n",
      "  Function evaluate() has been deprecated.  Use accuracy(gold)\n",
      "  instead.\n",
      "  print(\"Accuracy: \", pos_tagger.evaluate(test_data))\n"
     ]
    },
    {
     "name": "stdout",
     "output_type": "stream",
     "text": [
      "wordSet:  [['पूर्ण', 'प्रतिबंध', 'हटाओ', ':', 'इराक'], ['संयुक्त', 'राष्ट्र', '।'], ...]\n",
      "taggedSet:  hindi.pos\n",
      "Training dataset length:  486\n",
      "Testing dataset length:  53\n",
      "Accuracy:  0.8111964873765093\n",
      "[('३९', 'QFNUM'), ('गेंदों', 'NN'), ('में', 'PREP'), ('दो', 'QFNUM'), ('चौकों', 'QFNUM'), ('और', 'CC'), ('एक', 'QFNUM'), ('छक्के', 'QFNUM'), ('की', 'PREP'), ('मदद', 'NN'), ('से', 'PREP'), ('३४', 'QFNUM'), ('रन', 'NN'), ('बनाने', 'VNN'), ('वाले', 'PREP'), ('परोरे', 'NNP'), ('अंत', 'Unk'), ('तक', 'PREP'), ('आउट', 'JVB'), ('नहीं', 'NEG'), ('हुए', 'VAUX'), ('।', 'PUNC')]\n"
     ]
    }
   ],
   "source": [
    "if __name__ == \"__main__\":\n",
    "    pos_tagger = train()\n",
    "    sentence_to_be_tagged = \"३९ गेंदों में दो चौकों और एक छक्के की मदद से ३४ रन बनाने वाले परोरे अंत तक आउट नहीं हुए ।\"\n",
    "    print(tagger(pos_tagger,sentence_to_be_tagged))"
   ]
  },
  {
   "cell_type": "code",
   "execution_count": 32,
   "metadata": {},
   "outputs": [
    {
     "name": "stdout",
     "output_type": "stream",
     "text": [
      "[('दो', 'QFNUM'), ('बच्चे', 'Unk'), ('हैं', 'VAUX'), ('मीठी', 'Unk'), ('खीर', 'Unk'), (',', 'PUNC'), ('उस', 'PRP'), ('से', 'PREP'), ('ज्यादा', 'JJ'), ('बवासीर', 'Unk')]\n"
     ]
    }
   ],
   "source": [
    "sentence_to_be_tagged = \"दो बच्चे हैं मीठी खीर, उस से ज्यादा बवासीर\"\n",
    "print(tagger(pos_tagger,sentence_to_be_tagged))"
   ]
  }
 ],
 "metadata": {
  "kernelspec": {
   "display_name": ".venv",
   "language": "python",
   "name": "python3"
  },
  "language_info": {
   "codemirror_mode": {
    "name": "ipython",
    "version": 3
   },
   "file_extension": ".py",
   "mimetype": "text/x-python",
   "name": "python",
   "nbconvert_exporter": "python",
   "pygments_lexer": "ipython3",
   "version": "3.9.6"
  },
  "orig_nbformat": 4
 },
 "nbformat": 4,
 "nbformat_minor": 2
}
