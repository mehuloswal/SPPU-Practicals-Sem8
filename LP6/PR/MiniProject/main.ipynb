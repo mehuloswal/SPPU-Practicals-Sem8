{
 "cells": [
  {
   "cell_type": "code",
   "execution_count": 1,
   "metadata": {},
   "outputs": [],
   "source": [
    "# Importing OpenCV package\n",
    "import cv2\n",
    "import time\n",
    "\n",
    "def image_detector():  \n",
    "# Reading the image\n",
    "    img = cv2.imread('/Users/mehul/College/4th_year/SEM2/Practicals/LP6/PR/MiniProject/faces3.webp')\n",
    "    \n",
    "    # Converting image to grayscale because we are looking for sequences of light and dark\n",
    "    gray_img = cv2.cvtColor(img, cv2.COLOR_BGR2GRAY)\n",
    "    \n",
    "    # Loading the required haar-cascade xml classifier file\n",
    "    haar_cascade = cv2.CascadeClassifier('Haarcascade_frontalface_default.xml')\n",
    "    \n",
    "    # Applying the face detection method on the grayscale image\n",
    "    #scale = 1.1 & minneighbours = 9\n",
    "    faces_rect = haar_cascade.detectMultiScale(gray_img, 1.1, 9)\n",
    "    \n",
    "    # Iterating through rectangles of detected faces\n",
    "    for (x, y, w, h) in faces_rect:\n",
    "        cv2.rectangle(img, (x, y), (x+w, y+h), (0, 255, 0), 2)\n",
    "    \n",
    "    cv2.imshow('Detected faces', img)\n",
    "\n",
    "    cv2.waitKey(0)"
   ]
  },
  {
   "cell_type": "code",
   "execution_count": 2,
   "metadata": {},
   "outputs": [],
   "source": [
    "def cameraDetect():\n",
    "    camera = cv2.VideoCapture(1)\n",
    "    WindowName = 'Cascade Classifier'\n",
    "    cv2.namedWindow(WindowName, cv2.WINDOW_AUTOSIZE)\n",
    "\n",
    "    # Trained cascade classifiers\n",
    "    face=cv2.data.haarcascades+\"haarcascade_frontalface_default.xml\"\n",
    "\n",
    "    # Cascade Classifier\n",
    "    cascade=cv2.CascadeClassifier(face)\n",
    "\n",
    "    start = time.time()\n",
    "    while time.time()-start<=20.0:\n",
    "        # read frame\n",
    "        ret, pixels = camera.read()        \n",
    "        # convert to gray scale and identify faces\n",
    "        gray = cv2.cvtColor(pixels, cv2.COLOR_BGR2GRAY)\n",
    "        detect = cascade.detectMultiScale(gray,scaleFactor=1.1,\n",
    "                                            minNeighbors=3,\\\n",
    "                                            minSize=(30, 30))\n",
    "        # display identified faces on original image\n",
    "        for (x, y, w, h) in detect:\n",
    "            cv2.rectangle(pixels,(x,y),(x+w,y+h),(255,255,0),3)\n",
    "        cv2.imshow(WindowName,pixels)        \n",
    "        if cv2.waitKey(1) & 0xFF == ord('q'):\n",
    "            break\n",
    "\n",
    "    # Release camera and video file\n",
    "    camera.release()\n",
    "    cv2.destroyAllWindows()"
   ]
  },
  {
   "cell_type": "code",
   "execution_count": 3,
   "metadata": {},
   "outputs": [],
   "source": [
    "cameraDetect()\n",
    "# image_detector()"
   ]
  }
 ],
 "metadata": {
  "kernelspec": {
   "display_name": "venv",
   "language": "python",
   "name": "python3"
  },
  "language_info": {
   "codemirror_mode": {
    "name": "ipython",
    "version": 3
   },
   "file_extension": ".py",
   "mimetype": "text/x-python",
   "name": "python",
   "nbconvert_exporter": "python",
   "pygments_lexer": "ipython3",
   "version": "3.9.6"
  },
  "orig_nbformat": 4
 },
 "nbformat": 4,
 "nbformat_minor": 2
}
